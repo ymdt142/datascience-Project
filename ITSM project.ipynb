{
 "cells": [
  {
   "cell_type": "code",
   "execution_count": 1,
   "metadata": {},
   "outputs": [],
   "source": [
    "from collections import Counter\n",
    "import pandas as pd\n",
    "import numpy as np\n",
    "from sqlalchemy import create_engine"
   ]
  },
  {
   "cell_type": "code",
   "execution_count": 45,
   "metadata": {},
   "outputs": [],
   "source": [
    "Host=\"18.136.56.185\"\n",
    "Port=\"3306\"\n",
    "Username=\"dm_team\"\n",
    "Password=\"dm_team123#\"\n",
    "db_Name=\"project_itsm\""
   ]
  },
  {
   "cell_type": "code",
   "execution_count": 46,
   "metadata": {},
   "outputs": [],
   "source": [
    "conn=create_engine('mysql+pymysql://'+Username+':'+Password+'@'+Host+'/'+db_Name)"
   ]
  },
  {
   "cell_type": "code",
   "execution_count": null,
   "metadata": {},
   "outputs": [],
   "source": [
    "conn.table_names()"
   ]
  },
  {
   "cell_type": "code",
   "execution_count": null,
   "metadata": {},
   "outputs": [],
   "source": [
    "query = \"select * from dataset_list\"\n",
    "orders = pd.read_sql(query,conn) #extracting the table\n",
    "print(orders.shape)\n",
    "print(orders.head())"
   ]
  },
  {
   "cell_type": "code",
   "execution_count": null,
   "metadata": {},
   "outputs": [],
   "source": [
    "type(orders)"
   ]
  },
  {
   "cell_type": "code",
   "execution_count": null,
   "metadata": {},
   "outputs": [],
   "source": [
    "df2=orders"
   ]
  },
  {
   "cell_type": "code",
   "execution_count": 8,
   "metadata": {},
   "outputs": [],
   "source": [
    "df.to_csv(\"itsm.csv\", sep='\\t')"
   ]
  },
  {
   "cell_type": "code",
   "execution_count": 2,
   "metadata": {},
   "outputs": [],
   "source": [
    "df=pd.read_excel(\"itsm2 new.xlsx\")\n"
   ]
  },
  {
   "cell_type": "code",
   "execution_count": 3,
   "metadata": {},
   "outputs": [
    {
     "name": "stdout",
     "output_type": "stream",
     "text": [
      "CI_Name\t   2999\n",
      "CI_Cat\t   12\n",
      "CI_Subcat\t   64\n",
      "WBS\t   272\n",
      "Incident_ID\t   46499\n",
      "Priority\t   5\n",
      "number_cnt\t   46499\n",
      "Category\t   4\n",
      "KB_number\t   1817\n",
      "No_of_Reassignments\t   41\n",
      "Open_Time\t   34584\n",
      "Close_Time\t   34481\n",
      "Handle_Time_hrs\t   30601\n",
      "No_of_Related_Interactions\t   50\n"
     ]
    }
   ],
   "source": [
    "for col in df.columns:\n",
    "    print(col+\"\\t\"+\"   \"+str(len(df[col].unique())))"
   ]
  },
  {
   "cell_type": "code",
   "execution_count": 4,
   "metadata": {
    "scrolled": true
   },
   "outputs": [
    {
     "data": {
      "text/plain": [
       "CI_Name                        object\n",
       "CI_Cat                         object\n",
       "CI_Subcat                      object\n",
       "WBS                            object\n",
       "Incident_ID                    object\n",
       "Priority                        int64\n",
       "number_cnt                    float64\n",
       "Category                       object\n",
       "KB_number                      object\n",
       "No_of_Reassignments             int64\n",
       "Open_Time                      object\n",
       "Close_Time                     object\n",
       "Handle_Time_hrs                object\n",
       "No_of_Related_Interactions    float64\n",
       "dtype: object"
      ]
     },
     "execution_count": 4,
     "metadata": {},
     "output_type": "execute_result"
    }
   ],
   "source": [
    "df.dtypes"
   ]
  },
  {
   "cell_type": "code",
   "execution_count": 5,
   "metadata": {},
   "outputs": [
    {
     "data": {
      "text/plain": [
       "CI_Name                         0\n",
       "CI_Cat                          0\n",
       "CI_Subcat                       0\n",
       "WBS                             0\n",
       "Incident_ID                     0\n",
       "Priority                        0\n",
       "number_cnt                      0\n",
       "Category                        0\n",
       "KB_number                       0\n",
       "No_of_Reassignments             0\n",
       "Open_Time                       0\n",
       "Close_Time                      0\n",
       "Handle_Time_hrs                 1\n",
       "No_of_Related_Interactions    114\n",
       "dtype: int64"
      ]
     },
     "execution_count": 5,
     "metadata": {},
     "output_type": "execute_result"
    }
   ],
   "source": [
    "df.isnull().sum()"
   ]
  },
  {
   "cell_type": "code",
   "execution_count": 6,
   "metadata": {},
   "outputs": [
    {
     "data": {
      "text/html": [
       "<div>\n",
       "<style scoped>\n",
       "    .dataframe tbody tr th:only-of-type {\n",
       "        vertical-align: middle;\n",
       "    }\n",
       "\n",
       "    .dataframe tbody tr th {\n",
       "        vertical-align: top;\n",
       "    }\n",
       "\n",
       "    .dataframe thead th {\n",
       "        text-align: right;\n",
       "    }\n",
       "</style>\n",
       "<table border=\"1\" class=\"dataframe\">\n",
       "  <thead>\n",
       "    <tr style=\"text-align: right;\">\n",
       "      <th></th>\n",
       "      <th>CI_Name</th>\n",
       "      <th>CI_Cat</th>\n",
       "      <th>CI_Subcat</th>\n",
       "      <th>WBS</th>\n",
       "      <th>Incident_ID</th>\n",
       "      <th>Priority</th>\n",
       "      <th>number_cnt</th>\n",
       "      <th>Category</th>\n",
       "      <th>KB_number</th>\n",
       "      <th>No_of_Reassignments</th>\n",
       "      <th>Open_Time</th>\n",
       "      <th>Close_Time</th>\n",
       "      <th>Handle_Time_hrs</th>\n",
       "      <th>No_of_Related_Interactions</th>\n",
       "    </tr>\n",
       "  </thead>\n",
       "  <tbody>\n",
       "    <tr>\n",
       "      <td>0</td>\n",
       "      <td>SBA000662</td>\n",
       "      <td>application</td>\n",
       "      <td>Server Based Application</td>\n",
       "      <td>WBS000071</td>\n",
       "      <td>IM0000048</td>\n",
       "      <td>5</td>\n",
       "      <td>0.748361</td>\n",
       "      <td>request for information</td>\n",
       "      <td>KM0000524</td>\n",
       "      <td>0</td>\n",
       "      <td>06-02-2013 14:07</td>\n",
       "      <td>17-10-2013 14:00</td>\n",
       "      <td>3,88,55,55,556</td>\n",
       "      <td>2.0</td>\n",
       "    </tr>\n",
       "    <tr>\n",
       "      <td>1</td>\n",
       "      <td>WBA000133</td>\n",
       "      <td>application</td>\n",
       "      <td>Web Based Application</td>\n",
       "      <td>WBS000073</td>\n",
       "      <td>IM0000060</td>\n",
       "      <td>4</td>\n",
       "      <td>0.518267</td>\n",
       "      <td>incident</td>\n",
       "      <td>KM0001633</td>\n",
       "      <td>0</td>\n",
       "      <td>28-02-2013 16:49</td>\n",
       "      <td>20-11-2013 16:38</td>\n",
       "      <td>1,91,71,75,278</td>\n",
       "      <td>1.0</td>\n",
       "    </tr>\n",
       "    <tr>\n",
       "      <td>2</td>\n",
       "      <td>WBA000094</td>\n",
       "      <td>application</td>\n",
       "      <td>Web Based Application</td>\n",
       "      <td>WBS000073</td>\n",
       "      <td>IM0000128</td>\n",
       "      <td>4</td>\n",
       "      <td>0.714684</td>\n",
       "      <td>incident</td>\n",
       "      <td>KM0001732</td>\n",
       "      <td>0</td>\n",
       "      <td>24-05-2013 09:34</td>\n",
       "      <td>05-12-2013 08:28</td>\n",
       "      <td>1,45,66,98,056</td>\n",
       "      <td>3.0</td>\n",
       "    </tr>\n",
       "    <tr>\n",
       "      <td>3</td>\n",
       "      <td>WBA000077</td>\n",
       "      <td>application</td>\n",
       "      <td>Web Based Application</td>\n",
       "      <td>WBS000153</td>\n",
       "      <td>IM0000162</td>\n",
       "      <td>5</td>\n",
       "      <td>0.983634</td>\n",
       "      <td>incident</td>\n",
       "      <td>KM0000412</td>\n",
       "      <td>0</td>\n",
       "      <td>19-06-2013 15:33</td>\n",
       "      <td>10-10-2013 17:26</td>\n",
       "      <td>4,58,28,19,444</td>\n",
       "      <td>4.0</td>\n",
       "    </tr>\n",
       "    <tr>\n",
       "      <td>4</td>\n",
       "      <td>STA000033</td>\n",
       "      <td>application</td>\n",
       "      <td>Standard Application</td>\n",
       "      <td>WBS000066</td>\n",
       "      <td>IM0000185</td>\n",
       "      <td>3</td>\n",
       "      <td>0.677921</td>\n",
       "      <td>incident</td>\n",
       "      <td>KM0000575</td>\n",
       "      <td>0</td>\n",
       "      <td>08-07-2013 09:13</td>\n",
       "      <td>04-12-2013 14:25</td>\n",
       "      <td>1,12,85,83,056</td>\n",
       "      <td>1.0</td>\n",
       "    </tr>\n",
       "  </tbody>\n",
       "</table>\n",
       "</div>"
      ],
      "text/plain": [
       "     CI_Name       CI_Cat                 CI_Subcat        WBS Incident_ID  \\\n",
       "0  SBA000662  application  Server Based Application  WBS000071   IM0000048   \n",
       "1  WBA000133  application     Web Based Application  WBS000073   IM0000060   \n",
       "2  WBA000094  application     Web Based Application  WBS000073   IM0000128   \n",
       "3  WBA000077  application     Web Based Application  WBS000153   IM0000162   \n",
       "4  STA000033  application      Standard Application  WBS000066   IM0000185   \n",
       "\n",
       "   Priority  number_cnt                 Category  KB_number  \\\n",
       "0         5    0.748361  request for information  KM0000524   \n",
       "1         4    0.518267                 incident  KM0001633   \n",
       "2         4    0.714684                 incident  KM0001732   \n",
       "3         5    0.983634                 incident  KM0000412   \n",
       "4         3    0.677921                 incident  KM0000575   \n",
       "\n",
       "   No_of_Reassignments         Open_Time        Close_Time Handle_Time_hrs  \\\n",
       "0                    0  06-02-2013 14:07  17-10-2013 14:00  3,88,55,55,556   \n",
       "1                    0  28-02-2013 16:49  20-11-2013 16:38  1,91,71,75,278   \n",
       "2                    0  24-05-2013 09:34  05-12-2013 08:28  1,45,66,98,056   \n",
       "3                    0  19-06-2013 15:33  10-10-2013 17:26  4,58,28,19,444   \n",
       "4                    0  08-07-2013 09:13  04-12-2013 14:25  1,12,85,83,056   \n",
       "\n",
       "   No_of_Related_Interactions  \n",
       "0                         2.0  \n",
       "1                         1.0  \n",
       "2                         3.0  \n",
       "3                         4.0  \n",
       "4                         1.0  "
      ]
     },
     "execution_count": 6,
     "metadata": {},
     "output_type": "execute_result"
    }
   ],
   "source": [
    "df.head()"
   ]
  },
  {
   "cell_type": "code",
   "execution_count": 9,
   "metadata": {},
   "outputs": [
    {
     "data": {
      "text/plain": [
       "CI_Name                0\n",
       "CI_Cat                 0\n",
       "CI_Subcat              0\n",
       "WBS                    0\n",
       "Incident_ID            0\n",
       "Priority               0\n",
       "number_cnt             0\n",
       "Category               0\n",
       "KB_number              0\n",
       "No_of_Reassignments    0\n",
       "Open_Time              0\n",
       "Close_Time             0\n",
       "Handle_Time_hrs        0\n",
       "dtype: int64"
      ]
     },
     "execution_count": 9,
     "metadata": {},
     "output_type": "execute_result"
    }
   ],
   "source": [
    "df.isnull().sum()"
   ]
  },
  {
   "cell_type": "code",
   "execution_count": 8,
   "metadata": {},
   "outputs": [],
   "source": [
    "for i in df.columns:\n",
    "    if(df[i].isnull().sum()>100):\n",
    "        del df[i]\n",
    "df.dropna(inplace=True)"
   ]
  },
  {
   "cell_type": "code",
   "execution_count": 10,
   "metadata": {},
   "outputs": [],
   "source": [
    "df[\"Open_Time\"]=pd.to_datetime(df[\"Open_Time\"])\n",
    "df[\"Close_Time\"]=pd.to_datetime(df[\"Close_Time\"])"
   ]
  },
  {
   "cell_type": "code",
   "execution_count": null,
   "metadata": {},
   "outputs": [],
   "source": [
    "\n"
   ]
  },
  {
   "cell_type": "code",
   "execution_count": 11,
   "metadata": {},
   "outputs": [
    {
     "name": "stderr",
     "output_type": "stream",
     "text": [
      "C:\\Users\\gaurav\\Anaconda3\\lib\\site-packages\\ipykernel_launcher.py:2: SettingWithCopyWarning: \n",
      "A value is trying to be set on a copy of a slice from a DataFrame\n",
      "\n",
      "See the caveats in the documentation: http://pandas.pydata.org/pandas-docs/stable/user_guide/indexing.html#returning-a-view-versus-a-copy\n",
      "  \n"
     ]
    }
   ],
   "source": [
    "for i in range(len(df[\"Handle_Time_hrs\"])):\n",
    "    df['Handle_Time_hrs'][i]=df['Handle_Time_hrs'][i].replace(',','')"
   ]
  },
  {
   "cell_type": "code",
   "execution_count": 12,
   "metadata": {},
   "outputs": [],
   "source": [
    "for i in df.columns:\n",
    "    try:\n",
    "        df[i]=pd.to_numeric(df[i])\n",
    "    except:\n",
    "        pass"
   ]
  },
  {
   "cell_type": "code",
   "execution_count": 13,
   "metadata": {},
   "outputs": [
    {
     "data": {
      "text/plain": [
       "CI_Name                 object\n",
       "CI_Cat                  object\n",
       "CI_Subcat               object\n",
       "WBS                     object\n",
       "Incident_ID             object\n",
       "Priority                 int64\n",
       "number_cnt             float64\n",
       "Category                object\n",
       "KB_number               object\n",
       "No_of_Reassignments      int64\n",
       "Open_Time                int64\n",
       "Close_Time               int64\n",
       "Handle_Time_hrs          int64\n",
       "dtype: object"
      ]
     },
     "execution_count": 13,
     "metadata": {},
     "output_type": "execute_result"
    }
   ],
   "source": [
    "df.dtypes"
   ]
  },
  {
   "cell_type": "code",
   "execution_count": 14,
   "metadata": {
    "scrolled": true
   },
   "outputs": [
    {
     "data": {
      "text/plain": [
       "CI_Name                0\n",
       "CI_Cat                 0\n",
       "CI_Subcat              0\n",
       "WBS                    0\n",
       "Incident_ID            0\n",
       "Priority               0\n",
       "number_cnt             0\n",
       "Category               0\n",
       "KB_number              0\n",
       "No_of_Reassignments    0\n",
       "Open_Time              0\n",
       "Close_Time             0\n",
       "Handle_Time_hrs        0\n",
       "dtype: int64"
      ]
     },
     "execution_count": 14,
     "metadata": {},
     "output_type": "execute_result"
    }
   ],
   "source": [
    "df.isnull().sum()"
   ]
  },
  {
   "cell_type": "code",
   "execution_count": 15,
   "metadata": {},
   "outputs": [
    {
     "data": {
      "text/html": [
       "<div>\n",
       "<style scoped>\n",
       "    .dataframe tbody tr th:only-of-type {\n",
       "        vertical-align: middle;\n",
       "    }\n",
       "\n",
       "    .dataframe tbody tr th {\n",
       "        vertical-align: top;\n",
       "    }\n",
       "\n",
       "    .dataframe thead th {\n",
       "        text-align: right;\n",
       "    }\n",
       "</style>\n",
       "<table border=\"1\" class=\"dataframe\">\n",
       "  <thead>\n",
       "    <tr style=\"text-align: right;\">\n",
       "      <th></th>\n",
       "      <th>CI_Name</th>\n",
       "      <th>CI_Cat</th>\n",
       "      <th>CI_Subcat</th>\n",
       "      <th>WBS</th>\n",
       "      <th>Incident_ID</th>\n",
       "      <th>Priority</th>\n",
       "      <th>number_cnt</th>\n",
       "      <th>Category</th>\n",
       "      <th>KB_number</th>\n",
       "      <th>No_of_Reassignments</th>\n",
       "      <th>Open_Time</th>\n",
       "      <th>Close_Time</th>\n",
       "      <th>Handle_Time_hrs</th>\n",
       "    </tr>\n",
       "  </thead>\n",
       "  <tbody>\n",
       "    <tr>\n",
       "      <td>0</td>\n",
       "      <td>SBA000662</td>\n",
       "      <td>application</td>\n",
       "      <td>Server Based Application</td>\n",
       "      <td>WBS000071</td>\n",
       "      <td>IM0000048</td>\n",
       "      <td>5</td>\n",
       "      <td>0.748361</td>\n",
       "      <td>request for information</td>\n",
       "      <td>KM0000524</td>\n",
       "      <td>0</td>\n",
       "      <td>1370182020000000000</td>\n",
       "      <td>1382018400000000000</td>\n",
       "      <td>3885555556</td>\n",
       "    </tr>\n",
       "    <tr>\n",
       "      <td>1</td>\n",
       "      <td>WBA000133</td>\n",
       "      <td>application</td>\n",
       "      <td>Web Based Application</td>\n",
       "      <td>WBS000073</td>\n",
       "      <td>IM0000060</td>\n",
       "      <td>4</td>\n",
       "      <td>0.518267</td>\n",
       "      <td>incident</td>\n",
       "      <td>KM0001633</td>\n",
       "      <td>0</td>\n",
       "      <td>1362070140000000000</td>\n",
       "      <td>1384965480000000000</td>\n",
       "      <td>1917175278</td>\n",
       "    </tr>\n",
       "    <tr>\n",
       "      <td>2</td>\n",
       "      <td>WBA000094</td>\n",
       "      <td>application</td>\n",
       "      <td>Web Based Application</td>\n",
       "      <td>WBS000073</td>\n",
       "      <td>IM0000128</td>\n",
       "      <td>4</td>\n",
       "      <td>0.714684</td>\n",
       "      <td>incident</td>\n",
       "      <td>KM0001732</td>\n",
       "      <td>0</td>\n",
       "      <td>1369388040000000000</td>\n",
       "      <td>1368347280000000000</td>\n",
       "      <td>1456698056</td>\n",
       "    </tr>\n",
       "    <tr>\n",
       "      <td>3</td>\n",
       "      <td>WBA000077</td>\n",
       "      <td>application</td>\n",
       "      <td>Web Based Application</td>\n",
       "      <td>WBS000153</td>\n",
       "      <td>IM0000162</td>\n",
       "      <td>5</td>\n",
       "      <td>0.983634</td>\n",
       "      <td>incident</td>\n",
       "      <td>KM0000412</td>\n",
       "      <td>0</td>\n",
       "      <td>1371655980000000000</td>\n",
       "      <td>1381425960000000000</td>\n",
       "      <td>4582819444</td>\n",
       "    </tr>\n",
       "    <tr>\n",
       "      <td>4</td>\n",
       "      <td>STA000033</td>\n",
       "      <td>application</td>\n",
       "      <td>Standard Application</td>\n",
       "      <td>WBS000066</td>\n",
       "      <td>IM0000185</td>\n",
       "      <td>3</td>\n",
       "      <td>0.677921</td>\n",
       "      <td>incident</td>\n",
       "      <td>KM0000575</td>\n",
       "      <td>0</td>\n",
       "      <td>1375866780000000000</td>\n",
       "      <td>1365776700000000000</td>\n",
       "      <td>1128583056</td>\n",
       "    </tr>\n",
       "  </tbody>\n",
       "</table>\n",
       "</div>"
      ],
      "text/plain": [
       "     CI_Name       CI_Cat                 CI_Subcat        WBS Incident_ID  \\\n",
       "0  SBA000662  application  Server Based Application  WBS000071   IM0000048   \n",
       "1  WBA000133  application     Web Based Application  WBS000073   IM0000060   \n",
       "2  WBA000094  application     Web Based Application  WBS000073   IM0000128   \n",
       "3  WBA000077  application     Web Based Application  WBS000153   IM0000162   \n",
       "4  STA000033  application      Standard Application  WBS000066   IM0000185   \n",
       "\n",
       "   Priority  number_cnt                 Category  KB_number  \\\n",
       "0         5    0.748361  request for information  KM0000524   \n",
       "1         4    0.518267                 incident  KM0001633   \n",
       "2         4    0.714684                 incident  KM0001732   \n",
       "3         5    0.983634                 incident  KM0000412   \n",
       "4         3    0.677921                 incident  KM0000575   \n",
       "\n",
       "   No_of_Reassignments            Open_Time           Close_Time  \\\n",
       "0                    0  1370182020000000000  1382018400000000000   \n",
       "1                    0  1362070140000000000  1384965480000000000   \n",
       "2                    0  1369388040000000000  1368347280000000000   \n",
       "3                    0  1371655980000000000  1381425960000000000   \n",
       "4                    0  1375866780000000000  1365776700000000000   \n",
       "\n",
       "   Handle_Time_hrs  \n",
       "0       3885555556  \n",
       "1       1917175278  \n",
       "2       1456698056  \n",
       "3       4582819444  \n",
       "4       1128583056  "
      ]
     },
     "execution_count": 15,
     "metadata": {},
     "output_type": "execute_result"
    }
   ],
   "source": [
    "df.head()"
   ]
  },
  {
   "cell_type": "code",
   "execution_count": 56,
   "metadata": {
    "scrolled": true
   },
   "outputs": [
    {
     "name": "stderr",
     "output_type": "stream",
     "text": [
      "C:\\Users\\gaurav\\Anaconda3\\lib\\site-packages\\ipykernel_launcher.py:5: SettingWithCopyWarning: \n",
      "A value is trying to be set on a copy of a slice from a DataFrame\n",
      "\n",
      "See the caveats in the documentation: http://pandas.pydata.org/pandas-docs/stable/user_guide/indexing.html#returning-a-view-versus-a-copy\n",
      "  \"\"\"\n",
      "C:\\Users\\gaurav\\Anaconda3\\lib\\site-packages\\ipykernel_launcher.py:3: SettingWithCopyWarning: \n",
      "A value is trying to be set on a copy of a slice from a DataFrame\n",
      "\n",
      "See the caveats in the documentation: http://pandas.pydata.org/pandas-docs/stable/user_guide/indexing.html#returning-a-view-versus-a-copy\n",
      "  This is separate from the ipykernel package so we can avoid doing imports until\n"
     ]
    }
   ],
   "source": [
    "for i in range(len(df[\"Priority\"])):\n",
    "    if (df['Priority'][i]==1 or df['Priority'][i]==2):\n",
    "        df['Priority'][i]=1\n",
    "    else:\n",
    "        df['Priority'][i]=0"
   ]
  },
  {
   "cell_type": "code",
   "execution_count": 17,
   "metadata": {
    "scrolled": true
   },
   "outputs": [],
   "source": [
    "Counter(df['Priority'])\n",
    "df2=df"
   ]
  },
  {
   "cell_type": "markdown",
   "metadata": {},
   "source": [
    "## One Hot Encoding\n"
   ]
  },
  {
   "cell_type": "code",
   "execution_count": 31,
   "metadata": {},
   "outputs": [
    {
     "data": {
      "text/plain": [
       "SUB000456    3050\n",
       "SBA000263    2176\n",
       "SBA000607    1743\n",
       "SBA000462    1698\n",
       "WBA000058    1614\n",
       "WBA000133    1453\n",
       "SUB000113    1100\n",
       "WBA000011     945\n",
       "WBA000144     909\n",
       "DTA000616     851\n",
       "SUB000424     744\n",
       "SAP000004     737\n",
       "DTA000057     684\n",
       "SBA000017     669\n",
       "WBA000124     615\n",
       "SBA000759     571\n",
       "SBA000689     558\n",
       "SBA000609     539\n",
       "WBA000103     506\n",
       "APP000005     468\n",
       "Name: CI_Name, dtype: int64"
      ]
     },
     "execution_count": 31,
     "metadata": {},
     "output_type": "execute_result"
    }
   ],
   "source": [
    "df.CI_Name.value_counts().sort_values(ascending=False).head(20)"
   ]
  },
  {
   "cell_type": "code",
   "execution_count": 32,
   "metadata": {},
   "outputs": [
    {
     "data": {
      "text/plain": [
       "application          32899\n",
       "subapplication        7782\n",
       "computer              3643\n",
       "storage                703\n",
       "hardware               446\n",
       "software               333\n",
       "database               214\n",
       "displaydevice          212\n",
       "officeelectronics      152\n",
       "networkcomponents      107\n",
       "Name: CI_Cat, dtype: int64"
      ]
     },
     "execution_count": 32,
     "metadata": {},
     "output_type": "execute_result"
    }
   ],
   "source": [
    "df['CI_Cat'].value_counts().sort_values(ascending=False).head(10)"
   ]
  },
  {
   "cell_type": "code",
   "execution_count": 29,
   "metadata": {},
   "outputs": [
    {
     "data": {
      "text/plain": [
       "Server Based Application    18810\n",
       "Web Based Application       15311\n",
       "Desktop Application          3876\n",
       "Laptop                       1921\n",
       "SAP                          1199\n",
       "Banking Device                916\n",
       "Citrix                        767\n",
       "SAN                           549\n",
       "Client Based Application      492\n",
       "Desktop                       423\n",
       "DataCenterEquipment           281\n",
       "System Software               272\n",
       "Monitor                       212\n",
       "Database                      211\n",
       "Windows Server                153\n",
       "Controller                    146\n",
       "Exchange                      130\n",
       "Printer                        88\n",
       "Omgeving                       86\n",
       "Standard Application           85\n",
       "Scanner                        64\n",
       "MigratieDummy                  60\n",
       "Automation Software            55\n",
       "Linux Server                   55\n",
       "Encryption                     45\n",
       "Network Component              32\n",
       "KVM Switches                   32\n",
       "Switch                         28\n",
       "Keyboard                       27\n",
       "zOS Cluster                    17\n",
       "Router                         16\n",
       "Lines                          15\n",
       "NonStop Server                 14\n",
       "SharePoint Farm                11\n",
       "ESX Cluster                    11\n",
       "Net Device                     11\n",
       "X86 Server                     10\n",
       "VDI                             9\n",
       "Unix Server                     7\n",
       "Thin Client                     6\n",
       "zOS Server                      4\n",
       "Database Software               4\n",
       "MQ Queue Manager                4\n",
       "Modem                           3\n",
       "Oracle Server                   3\n",
       "ESX Server                      2\n",
       "Instance                        2\n",
       "Firewall                        2\n",
       "Tape Library                    2\n",
       "Number                          2\n",
       "Name: CI_Subcat, dtype: int64"
      ]
     },
     "execution_count": 29,
     "metadata": {},
     "output_type": "execute_result"
    }
   ],
   "source": [
    "df['CI_Subcat'].value_counts().sort_values(ascending=False).head(50)"
   ]
  },
  {
   "cell_type": "code",
   "execution_count": 30,
   "metadata": {},
   "outputs": [
    {
     "data": {
      "text/plain": [
       "WBS000073    13342\n",
       "WBS000091     2500\n",
       "WBS000263     2283\n",
       "WBS000072     2197\n",
       "WBS000271     1186\n",
       "WBS000095     1102\n",
       "WBS000318     1099\n",
       "WBS000152     1076\n",
       "WBS000094      861\n",
       "WBS000146      858\n",
       "WBS000223      803\n",
       "WBS000092      784\n",
       "WBS000128      755\n",
       "WBS000099      717\n",
       "WBS000088      619\n",
       "WBS000228      611\n",
       "WBS000089      603\n",
       "WBS000296      581\n",
       "WBS000292      573\n",
       "WBS000016      505\n",
       "WBS000162      495\n",
       "WBS000199      483\n",
       "WBS000219      463\n",
       "WBS000096      418\n",
       "WBS000307      374\n",
       "WBS000187      353\n",
       "WBS000172      328\n",
       "WBS000125      318\n",
       "WBS000023      302\n",
       "WBS000255      291\n",
       "WBS000013      277\n",
       "WBS000110      242\n",
       "WBS000264      232\n",
       "WBS000043      232\n",
       "WBS000330      222\n",
       "WBS000014      219\n",
       "WBS000093      215\n",
       "WBS000015      208\n",
       "WBS000098      208\n",
       "WBS000025      207\n",
       "WBS000239      200\n",
       "WBS000048      191\n",
       "WBS000102      185\n",
       "WBS000167      183\n",
       "WBS000027      166\n",
       "WBS000054      165\n",
       "WBS000002      157\n",
       "WBS000066      154\n",
       "WBS000077      151\n",
       "WBS000153      146\n",
       "Name: WBS, dtype: int64"
      ]
     },
     "execution_count": 30,
     "metadata": {},
     "output_type": "execute_result"
    }
   ],
   "source": [
    "df['WBS'].value_counts().sort_values(ascending=False).head(50)"
   ]
  },
  {
   "cell_type": "code",
   "execution_count": null,
   "metadata": {},
   "outputs": [],
   "source": []
  },
  {
   "cell_type": "code",
   "execution_count": null,
   "metadata": {},
   "outputs": [],
   "source": []
  },
  {
   "cell_type": "code",
   "execution_count": null,
   "metadata": {},
   "outputs": [],
   "source": []
  },
  {
   "cell_type": "code",
   "execution_count": null,
   "metadata": {},
   "outputs": [],
   "source": []
  },
  {
   "cell_type": "code",
   "execution_count": null,
   "metadata": {},
   "outputs": [],
   "source": []
  },
  {
   "cell_type": "markdown",
   "metadata": {},
   "source": [
    "## Label Encoding"
   ]
  },
  {
   "cell_type": "code",
   "execution_count": 33,
   "metadata": {},
   "outputs": [],
   "source": [
    "from sklearn.preprocessing import LabelEncoder"
   ]
  },
  {
   "cell_type": "code",
   "execution_count": 42,
   "metadata": {},
   "outputs": [],
   "source": [
    "#As some of the column contain 'yes','no' their value, we need to conver it into numerical form \n",
    "#before giving these data to our model\n",
    "# 0 means No and 1 means Yes\n",
    "enc=LabelEncoder()\n",
    "X.CI_Name=enc.fit_transform(X.CI_Name)\n",
    "X.CI_Cat=enc.fit_transform(X.CI_Cat)\n",
    "X.CI_Subcat=enc.fit_transform(X.CI_Subcat)\n",
    "X.WBS=enc.fit_transform(X.WBS)\n",
    "X.Incident_ID=enc.fit_transform(X.Incident_ID)\n",
    "X.Category=enc.fit_transform(X.Category)\n",
    "X.KB_number=enc.fit_transform(X.KB_number)"
   ]
  },
  {
   "cell_type": "code",
   "execution_count": 43,
   "metadata": {},
   "outputs": [
    {
     "data": {
      "text/plain": [
       "CI_Name                  int32\n",
       "CI_Cat                   int32\n",
       "CI_Subcat                int32\n",
       "WBS                      int32\n",
       "Incident_ID              int32\n",
       "number_cnt             float64\n",
       "Category                 int32\n",
       "KB_number                int32\n",
       "No_of_Reassignments      int64\n",
       "Open_Time                int64\n",
       "Close_Time               int64\n",
       "dtype: object"
      ]
     },
     "execution_count": 43,
     "metadata": {},
     "output_type": "execute_result"
    }
   ],
   "source": [
    "X.dtypes"
   ]
  },
  {
   "cell_type": "code",
   "execution_count": 41,
   "metadata": {},
   "outputs": [
    {
     "data": {
      "text/plain": [
       "CI_Name                 object\n",
       "CI_Cat                  object\n",
       "CI_Subcat               object\n",
       "WBS                     object\n",
       "Incident_ID             object\n",
       "number_cnt             float64\n",
       "Category                object\n",
       "KB_number               object\n",
       "No_of_Reassignments      int64\n",
       "Open_Time                int64\n",
       "Close_Time               int64\n",
       "dtype: object"
      ]
     },
     "execution_count": 41,
     "metadata": {},
     "output_type": "execute_result"
    }
   ],
   "source": [
    "xx.dtypes"
   ]
  },
  {
   "cell_type": "code",
   "execution_count": 90,
   "metadata": {},
   "outputs": [],
   "source": [
    "del xx[\"Incident_ID\"]"
   ]
  },
  {
   "cell_type": "code",
   "execution_count": null,
   "metadata": {},
   "outputs": [],
   "source": []
  },
  {
   "cell_type": "code",
   "execution_count": null,
   "metadata": {},
   "outputs": [],
   "source": []
  },
  {
   "cell_type": "code",
   "execution_count": null,
   "metadata": {},
   "outputs": [],
   "source": []
  },
  {
   "cell_type": "code",
   "execution_count": null,
   "metadata": {},
   "outputs": [],
   "source": []
  },
  {
   "cell_type": "markdown",
   "metadata": {},
   "source": [
    "## Random forest"
   ]
  },
  {
   "cell_type": "code",
   "execution_count": 46,
   "metadata": {},
   "outputs": [],
   "source": [
    "from sklearn.ensemble import RandomForestClassifier\n",
    "from sklearn.model_selection import train_test_split as tts"
   ]
  },
  {
   "cell_type": "code",
   "execution_count": 47,
   "metadata": {},
   "outputs": [
    {
     "data": {
      "text/html": [
       "<div>\n",
       "<style scoped>\n",
       "    .dataframe tbody tr th:only-of-type {\n",
       "        vertical-align: middle;\n",
       "    }\n",
       "\n",
       "    .dataframe tbody tr th {\n",
       "        vertical-align: top;\n",
       "    }\n",
       "\n",
       "    .dataframe thead th {\n",
       "        text-align: right;\n",
       "    }\n",
       "</style>\n",
       "<table border=\"1\" class=\"dataframe\">\n",
       "  <thead>\n",
       "    <tr style=\"text-align: right;\">\n",
       "      <th></th>\n",
       "      <th>CI_Name</th>\n",
       "      <th>CI_Cat</th>\n",
       "      <th>CI_Subcat</th>\n",
       "      <th>WBS</th>\n",
       "      <th>Incident_ID</th>\n",
       "      <th>Priority</th>\n",
       "      <th>number_cnt</th>\n",
       "      <th>Category</th>\n",
       "      <th>KB_number</th>\n",
       "      <th>No_of_Reassignments</th>\n",
       "      <th>Open_Time</th>\n",
       "      <th>Close_Time</th>\n",
       "      <th>Handle_Time_hrs</th>\n",
       "    </tr>\n",
       "  </thead>\n",
       "  <tbody>\n",
       "    <tr>\n",
       "      <td>0</td>\n",
       "      <td>SBA000662</td>\n",
       "      <td>application</td>\n",
       "      <td>Server Based Application</td>\n",
       "      <td>WBS000071</td>\n",
       "      <td>IM0000048</td>\n",
       "      <td>5</td>\n",
       "      <td>0.748361</td>\n",
       "      <td>request for information</td>\n",
       "      <td>KM0000524</td>\n",
       "      <td>0</td>\n",
       "      <td>1370182020000000000</td>\n",
       "      <td>1382018400000000000</td>\n",
       "      <td>3885555556</td>\n",
       "    </tr>\n",
       "    <tr>\n",
       "      <td>1</td>\n",
       "      <td>WBA000133</td>\n",
       "      <td>application</td>\n",
       "      <td>Web Based Application</td>\n",
       "      <td>WBS000073</td>\n",
       "      <td>IM0000060</td>\n",
       "      <td>4</td>\n",
       "      <td>0.518267</td>\n",
       "      <td>incident</td>\n",
       "      <td>KM0001633</td>\n",
       "      <td>0</td>\n",
       "      <td>1362070140000000000</td>\n",
       "      <td>1384965480000000000</td>\n",
       "      <td>1917175278</td>\n",
       "    </tr>\n",
       "    <tr>\n",
       "      <td>2</td>\n",
       "      <td>WBA000094</td>\n",
       "      <td>application</td>\n",
       "      <td>Web Based Application</td>\n",
       "      <td>WBS000073</td>\n",
       "      <td>IM0000128</td>\n",
       "      <td>4</td>\n",
       "      <td>0.714684</td>\n",
       "      <td>incident</td>\n",
       "      <td>KM0001732</td>\n",
       "      <td>0</td>\n",
       "      <td>1369388040000000000</td>\n",
       "      <td>1368347280000000000</td>\n",
       "      <td>1456698056</td>\n",
       "    </tr>\n",
       "    <tr>\n",
       "      <td>3</td>\n",
       "      <td>WBA000077</td>\n",
       "      <td>application</td>\n",
       "      <td>Web Based Application</td>\n",
       "      <td>WBS000153</td>\n",
       "      <td>IM0000162</td>\n",
       "      <td>5</td>\n",
       "      <td>0.983634</td>\n",
       "      <td>incident</td>\n",
       "      <td>KM0000412</td>\n",
       "      <td>0</td>\n",
       "      <td>1371655980000000000</td>\n",
       "      <td>1381425960000000000</td>\n",
       "      <td>4582819444</td>\n",
       "    </tr>\n",
       "    <tr>\n",
       "      <td>4</td>\n",
       "      <td>STA000033</td>\n",
       "      <td>application</td>\n",
       "      <td>Standard Application</td>\n",
       "      <td>WBS000066</td>\n",
       "      <td>IM0000185</td>\n",
       "      <td>3</td>\n",
       "      <td>0.677921</td>\n",
       "      <td>incident</td>\n",
       "      <td>KM0000575</td>\n",
       "      <td>0</td>\n",
       "      <td>1375866780000000000</td>\n",
       "      <td>1365776700000000000</td>\n",
       "      <td>1128583056</td>\n",
       "    </tr>\n",
       "  </tbody>\n",
       "</table>\n",
       "</div>"
      ],
      "text/plain": [
       "     CI_Name       CI_Cat                 CI_Subcat        WBS Incident_ID  \\\n",
       "0  SBA000662  application  Server Based Application  WBS000071   IM0000048   \n",
       "1  WBA000133  application     Web Based Application  WBS000073   IM0000060   \n",
       "2  WBA000094  application     Web Based Application  WBS000073   IM0000128   \n",
       "3  WBA000077  application     Web Based Application  WBS000153   IM0000162   \n",
       "4  STA000033  application      Standard Application  WBS000066   IM0000185   \n",
       "\n",
       "   Priority  number_cnt                 Category  KB_number  \\\n",
       "0         5    0.748361  request for information  KM0000524   \n",
       "1         4    0.518267                 incident  KM0001633   \n",
       "2         4    0.714684                 incident  KM0001732   \n",
       "3         5    0.983634                 incident  KM0000412   \n",
       "4         3    0.677921                 incident  KM0000575   \n",
       "\n",
       "   No_of_Reassignments            Open_Time           Close_Time  \\\n",
       "0                    0  1370182020000000000  1382018400000000000   \n",
       "1                    0  1362070140000000000  1384965480000000000   \n",
       "2                    0  1369388040000000000  1368347280000000000   \n",
       "3                    0  1371655980000000000  1381425960000000000   \n",
       "4                    0  1375866780000000000  1365776700000000000   \n",
       "\n",
       "   Handle_Time_hrs  \n",
       "0       3885555556  \n",
       "1       1917175278  \n",
       "2       1456698056  \n",
       "3       4582819444  \n",
       "4       1128583056  "
      ]
     },
     "execution_count": 47,
     "metadata": {},
     "output_type": "execute_result"
    }
   ],
   "source": [
    "df.head()"
   ]
  },
  {
   "cell_type": "code",
   "execution_count": 34,
   "metadata": {},
   "outputs": [],
   "source": [
    "X=df.loc[:,['CI_Name', 'CI_Cat', 'CI_Subcat', 'WBS', 'Incident_ID',\n",
    "       'number_cnt', 'Category', 'KB_number', 'No_of_Reassignments',\n",
    "       'Open_Time', 'Close_Time']]\n"
   ]
  },
  {
   "cell_type": "code",
   "execution_count": 91,
   "metadata": {},
   "outputs": [],
   "source": [
    "y=df.Priority"
   ]
  },
  {
   "cell_type": "code",
   "execution_count": 92,
   "metadata": {},
   "outputs": [],
   "source": [
    "x_train,x_test,y_train,y_test=tts(xx,yy,random_state=10)"
   ]
  },
  {
   "cell_type": "code",
   "execution_count": 93,
   "metadata": {},
   "outputs": [],
   "source": [
    "model=RandomForestClassifier(n_estimators=100)\n"
   ]
  },
  {
   "cell_type": "code",
   "execution_count": 98,
   "metadata": {},
   "outputs": [
    {
     "data": {
      "text/plain": [
       "RandomForestClassifier(bootstrap=True, ccp_alpha=0.0, class_weight=None,\n",
       "                       criterion='gini', max_depth=None, max_features='auto',\n",
       "                       max_leaf_nodes=None, max_samples=None,\n",
       "                       min_impurity_decrease=0.0, min_impurity_split=None,\n",
       "                       min_samples_leaf=1, min_samples_split=2,\n",
       "                       min_weight_fraction_leaf=0.0, n_estimators=100,\n",
       "                       n_jobs=None, oob_score=False, random_state=None,\n",
       "                       verbose=0, warm_start=False)"
      ]
     },
     "execution_count": 98,
     "metadata": {},
     "output_type": "execute_result"
    }
   ],
   "source": [
    "model.fit(x_train,y_train)\n"
   ]
  },
  {
   "cell_type": "code",
   "execution_count": 95,
   "metadata": {},
   "outputs": [],
   "source": [
    "yp=model.predict(x_test)"
   ]
  },
  {
   "cell_type": "code",
   "execution_count": 53,
   "metadata": {},
   "outputs": [],
   "source": [
    "from sklearn.metrics import accuracy_score\n",
    "from sklearn.metrics import confusion_matrix,classification_report #check"
   ]
  },
  {
   "cell_type": "code",
   "execution_count": 96,
   "metadata": {},
   "outputs": [
    {
     "data": {
      "text/plain": [
       "0.8764367816091954"
      ]
     },
     "execution_count": 96,
     "metadata": {},
     "output_type": "execute_result"
    }
   ],
   "source": [
    "accuracy_score(yp,y_test)"
   ]
  },
  {
   "cell_type": "code",
   "execution_count": 99,
   "metadata": {},
   "outputs": [
    {
     "name": "stdout",
     "output_type": "stream",
     "text": [
      "Counter({0: 177, 1: 171})\n"
     ]
    },
    {
     "data": {
      "text/html": [
       "<div>\n",
       "<style scoped>\n",
       "    .dataframe tbody tr th:only-of-type {\n",
       "        vertical-align: middle;\n",
       "    }\n",
       "\n",
       "    .dataframe tbody tr th {\n",
       "        vertical-align: top;\n",
       "    }\n",
       "\n",
       "    .dataframe thead th {\n",
       "        text-align: right;\n",
       "    }\n",
       "</style>\n",
       "<table border=\"1\" class=\"dataframe\">\n",
       "  <thead>\n",
       "    <tr style=\"text-align: right;\">\n",
       "      <th>col_0</th>\n",
       "      <th>0</th>\n",
       "      <th>1</th>\n",
       "    </tr>\n",
       "    <tr>\n",
       "      <th>Predict</th>\n",
       "      <th></th>\n",
       "      <th></th>\n",
       "    </tr>\n",
       "  </thead>\n",
       "  <tbody>\n",
       "    <tr>\n",
       "      <td>0</td>\n",
       "      <td>166</td>\n",
       "      <td>11</td>\n",
       "    </tr>\n",
       "    <tr>\n",
       "      <td>1</td>\n",
       "      <td>32</td>\n",
       "      <td>139</td>\n",
       "    </tr>\n",
       "  </tbody>\n",
       "</table>\n",
       "</div>"
      ],
      "text/plain": [
       "col_0      0    1\n",
       "Predict          \n",
       "0        166   11\n",
       "1         32  139"
      ]
     },
     "execution_count": 99,
     "metadata": {},
     "output_type": "execute_result"
    }
   ],
   "source": [
    "print(Counter(y_test))\n",
    "pd.crosstab(y_test,yp)"
   ]
  },
  {
   "cell_type": "code",
   "execution_count": 100,
   "metadata": {},
   "outputs": [
    {
     "name": "stdout",
     "output_type": "stream",
     "text": [
      "              precision    recall  f1-score   support\n",
      "\n",
      "           0       0.84      0.94      0.89       177\n",
      "           1       0.93      0.81      0.87       171\n",
      "\n",
      "    accuracy                           0.88       348\n",
      "   macro avg       0.88      0.88      0.88       348\n",
      "weighted avg       0.88      0.88      0.88       348\n",
      "\n"
     ]
    }
   ],
   "source": [
    "print(classification_report(y_test,yp))"
   ]
  },
  {
   "cell_type": "markdown",
   "metadata": {},
   "source": [
    "## Under sampleing"
   ]
  },
  {
   "cell_type": "code",
   "execution_count": 65,
   "metadata": {},
   "outputs": [
    {
     "name": "stderr",
     "output_type": "stream",
     "text": [
      "Using TensorFlow backend.\n"
     ]
    },
    {
     "name": "stdout",
     "output_type": "stream",
     "text": [
      "(1392, 11)\n"
     ]
    }
   ],
   "source": [
    "# As this is Imbalance data set we need to balanced it.\n",
    "# There are NO(0):3961, YES(1):656 of churn record\n",
    "# Under Sampling is good here as we are more intrested in YES(1), so removing some of 0's is good idea to make the data set as\n",
    "#Balanced\n",
    "\n",
    "from imblearn.under_sampling import NearMiss\n",
    "nm=NearMiss()                   #creating object\n",
    "X_under,y_under=nm.fit_sample(X,y)  #under sampling\n",
    "print(X_under.shape)     \n",
    "X_under.head()\n",
    "X_under['Predict']=y_under            #putting back y_new to X_new to shuffle the data\n",
    "X_under=X_under.sample(frac=1).reset_index(drop=True)  #shuffling data"
   ]
  },
  {
   "cell_type": "code",
   "execution_count": 68,
   "metadata": {},
   "outputs": [
    {
     "name": "stdout",
     "output_type": "stream",
     "text": [
      "(46498,)\n",
      "(1392, 11)\n",
      "Counter({0: 696, 1: 696})\n"
     ]
    }
   ],
   "source": [
    "yy=X_under.Predict\n",
    "xx=X_under.iloc[:,:-1]\n",
    "print(y.shape)\n",
    "print(xx.shape)\n",
    "print(Counter(yy))"
   ]
  },
  {
   "cell_type": "code",
   "execution_count": 71,
   "metadata": {},
   "outputs": [
    {
     "data": {
      "text/html": [
       "<div>\n",
       "<style scoped>\n",
       "    .dataframe tbody tr th:only-of-type {\n",
       "        vertical-align: middle;\n",
       "    }\n",
       "\n",
       "    .dataframe tbody tr th {\n",
       "        vertical-align: top;\n",
       "    }\n",
       "\n",
       "    .dataframe thead th {\n",
       "        text-align: right;\n",
       "    }\n",
       "</style>\n",
       "<table border=\"1\" class=\"dataframe\">\n",
       "  <thead>\n",
       "    <tr style=\"text-align: right;\">\n",
       "      <th></th>\n",
       "      <th>CI_Name</th>\n",
       "      <th>CI_Cat</th>\n",
       "      <th>CI_Subcat</th>\n",
       "      <th>WBS</th>\n",
       "      <th>Incident_ID</th>\n",
       "      <th>number_cnt</th>\n",
       "      <th>Category</th>\n",
       "      <th>KB_number</th>\n",
       "      <th>No_of_Reassignments</th>\n",
       "      <th>Open_Time</th>\n",
       "      <th>Close_Time</th>\n",
       "    </tr>\n",
       "  </thead>\n",
       "  <tbody>\n",
       "    <tr>\n",
       "      <td>0</td>\n",
       "      <td>2374</td>\n",
       "      <td>1</td>\n",
       "      <td>45</td>\n",
       "      <td>128</td>\n",
       "      <td>2258</td>\n",
       "      <td>0.676750</td>\n",
       "      <td>1</td>\n",
       "      <td>217</td>\n",
       "      <td>0</td>\n",
       "      <td>1362914820000000000</td>\n",
       "      <td>1362928260000000000</td>\n",
       "    </tr>\n",
       "    <tr>\n",
       "      <td>1</td>\n",
       "      <td>160</td>\n",
       "      <td>3</td>\n",
       "      <td>2</td>\n",
       "      <td>123</td>\n",
       "      <td>7445</td>\n",
       "      <td>0.136063</td>\n",
       "      <td>1</td>\n",
       "      <td>194</td>\n",
       "      <td>1</td>\n",
       "      <td>1382526360000000000</td>\n",
       "      <td>1382549280000000000</td>\n",
       "    </tr>\n",
       "    <tr>\n",
       "      <td>2</td>\n",
       "      <td>424</td>\n",
       "      <td>3</td>\n",
       "      <td>2</td>\n",
       "      <td>123</td>\n",
       "      <td>30704</td>\n",
       "      <td>0.209051</td>\n",
       "      <td>1</td>\n",
       "      <td>194</td>\n",
       "      <td>0</td>\n",
       "      <td>1390814040000000000</td>\n",
       "      <td>1390930020000000000</td>\n",
       "    </tr>\n",
       "    <tr>\n",
       "      <td>3</td>\n",
       "      <td>1050</td>\n",
       "      <td>1</td>\n",
       "      <td>10</td>\n",
       "      <td>74</td>\n",
       "      <td>10194</td>\n",
       "      <td>0.352904</td>\n",
       "      <td>1</td>\n",
       "      <td>1532</td>\n",
       "      <td>4</td>\n",
       "      <td>1365674340000000000</td>\n",
       "      <td>1365685860000000000</td>\n",
       "    </tr>\n",
       "    <tr>\n",
       "      <td>4</td>\n",
       "      <td>653</td>\n",
       "      <td>10</td>\n",
       "      <td>5</td>\n",
       "      <td>153</td>\n",
       "      <td>2205</td>\n",
       "      <td>0.055999</td>\n",
       "      <td>1</td>\n",
       "      <td>881</td>\n",
       "      <td>0</td>\n",
       "      <td>1362915960000000000</td>\n",
       "      <td>1362932160000000000</td>\n",
       "    </tr>\n",
       "    <tr>\n",
       "      <td>...</td>\n",
       "      <td>...</td>\n",
       "      <td>...</td>\n",
       "      <td>...</td>\n",
       "      <td>...</td>\n",
       "      <td>...</td>\n",
       "      <td>...</td>\n",
       "      <td>...</td>\n",
       "      <td>...</td>\n",
       "      <td>...</td>\n",
       "      <td>...</td>\n",
       "      <td>...</td>\n",
       "    </tr>\n",
       "    <tr>\n",
       "      <td>1387</td>\n",
       "      <td>2843</td>\n",
       "      <td>1</td>\n",
       "      <td>57</td>\n",
       "      <td>70</td>\n",
       "      <td>17296</td>\n",
       "      <td>0.277189</td>\n",
       "      <td>1</td>\n",
       "      <td>453</td>\n",
       "      <td>0</td>\n",
       "      <td>1385637000000000000</td>\n",
       "      <td>1385658300000000000</td>\n",
       "    </tr>\n",
       "    <tr>\n",
       "      <td>1388</td>\n",
       "      <td>2713</td>\n",
       "      <td>11</td>\n",
       "      <td>57</td>\n",
       "      <td>12</td>\n",
       "      <td>2111</td>\n",
       "      <td>0.637143</td>\n",
       "      <td>1</td>\n",
       "      <td>339</td>\n",
       "      <td>0</td>\n",
       "      <td>1362912000000000000</td>\n",
       "      <td>1362928380000000000</td>\n",
       "    </tr>\n",
       "    <tr>\n",
       "      <td>1389</td>\n",
       "      <td>253</td>\n",
       "      <td>3</td>\n",
       "      <td>2</td>\n",
       "      <td>123</td>\n",
       "      <td>4906</td>\n",
       "      <td>0.894529</td>\n",
       "      <td>1</td>\n",
       "      <td>194</td>\n",
       "      <td>3</td>\n",
       "      <td>1381752660000000000</td>\n",
       "      <td>1381768320000000000</td>\n",
       "    </tr>\n",
       "    <tr>\n",
       "      <td>1390</td>\n",
       "      <td>2481</td>\n",
       "      <td>1</td>\n",
       "      <td>45</td>\n",
       "      <td>208</td>\n",
       "      <td>11940</td>\n",
       "      <td>0.448989</td>\n",
       "      <td>1</td>\n",
       "      <td>437</td>\n",
       "      <td>0</td>\n",
       "      <td>1376220300000000000</td>\n",
       "      <td>1376231340000000000</td>\n",
       "    </tr>\n",
       "    <tr>\n",
       "      <td>1391</td>\n",
       "      <td>2282</td>\n",
       "      <td>1</td>\n",
       "      <td>45</td>\n",
       "      <td>197</td>\n",
       "      <td>38547</td>\n",
       "      <td>0.585375</td>\n",
       "      <td>1</td>\n",
       "      <td>503</td>\n",
       "      <td>0</td>\n",
       "      <td>1393235220000000000</td>\n",
       "      <td>1393236060000000000</td>\n",
       "    </tr>\n",
       "  </tbody>\n",
       "</table>\n",
       "<p>1392 rows × 11 columns</p>\n",
       "</div>"
      ],
      "text/plain": [
       "      CI_Name  CI_Cat  CI_Subcat  WBS  Incident_ID  number_cnt  Category  \\\n",
       "0        2374       1         45  128         2258    0.676750         1   \n",
       "1         160       3          2  123         7445    0.136063         1   \n",
       "2         424       3          2  123        30704    0.209051         1   \n",
       "3        1050       1         10   74        10194    0.352904         1   \n",
       "4         653      10          5  153         2205    0.055999         1   \n",
       "...       ...     ...        ...  ...          ...         ...       ...   \n",
       "1387     2843       1         57   70        17296    0.277189         1   \n",
       "1388     2713      11         57   12         2111    0.637143         1   \n",
       "1389      253       3          2  123         4906    0.894529         1   \n",
       "1390     2481       1         45  208        11940    0.448989         1   \n",
       "1391     2282       1         45  197        38547    0.585375         1   \n",
       "\n",
       "      KB_number  No_of_Reassignments            Open_Time           Close_Time  \n",
       "0           217                    0  1362914820000000000  1362928260000000000  \n",
       "1           194                    1  1382526360000000000  1382549280000000000  \n",
       "2           194                    0  1390814040000000000  1390930020000000000  \n",
       "3          1532                    4  1365674340000000000  1365685860000000000  \n",
       "4           881                    0  1362915960000000000  1362932160000000000  \n",
       "...         ...                  ...                  ...                  ...  \n",
       "1387        453                    0  1385637000000000000  1385658300000000000  \n",
       "1388        339                    0  1362912000000000000  1362928380000000000  \n",
       "1389        194                    3  1381752660000000000  1381768320000000000  \n",
       "1390        437                    0  1376220300000000000  1376231340000000000  \n",
       "1391        503                    0  1393235220000000000  1393236060000000000  \n",
       "\n",
       "[1392 rows x 11 columns]"
      ]
     },
     "execution_count": 71,
     "metadata": {},
     "output_type": "execute_result"
    }
   ],
   "source": [
    "xx"
   ]
  },
  {
   "cell_type": "code",
   "execution_count": null,
   "metadata": {},
   "outputs": [],
   "source": []
  }
 ],
 "metadata": {
  "kernelspec": {
   "display_name": "Python 3",
   "language": "python",
   "name": "python3"
  },
  "language_info": {
   "codemirror_mode": {
    "name": "ipython",
    "version": 3
   },
   "file_extension": ".py",
   "mimetype": "text/x-python",
   "name": "python",
   "nbconvert_exporter": "python",
   "pygments_lexer": "ipython3",
   "version": "3.7.4"
  }
 },
 "nbformat": 4,
 "nbformat_minor": 2
}
